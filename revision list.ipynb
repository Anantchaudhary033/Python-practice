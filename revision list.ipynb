{
 "cells": [
  {
   "cell_type": "code",
   "execution_count": 1,
   "id": "4c2025c7",
   "metadata": {},
   "outputs": [],
   "source": [
    "# Practice of list,string,tuple,dictionary "
   ]
  },
  {
   "cell_type": "code",
   "execution_count": 3,
   "id": "a987fff1",
   "metadata": {},
   "outputs": [],
   "source": [
    "# LIST"
   ]
  },
  {
   "cell_type": "code",
   "execution_count": 4,
   "id": "d62ec664",
   "metadata": {},
   "outputs": [],
   "source": [
    "# access of items"
   ]
  },
  {
   "cell_type": "code",
   "execution_count": 5,
   "id": "02e462f4",
   "metadata": {},
   "outputs": [
    {
     "name": "stdout",
     "output_type": "stream",
     "text": [
      "[5, 8]\n"
     ]
    }
   ],
   "source": [
    "l=[8,0,9,5]\n",
    "print(l[::-3])"
   ]
  },
  {
   "cell_type": "code",
   "execution_count": 5,
   "id": "802e986e",
   "metadata": {},
   "outputs": [
    {
     "name": "stdout",
     "output_type": "stream",
     "text": [
      "0\n"
     ]
    }
   ],
   "source": [
    "l=[8,0,9,5]\n",
    "print(l[-3])"
   ]
  },
  {
   "cell_type": "code",
   "execution_count": 6,
   "id": "b8c8db0b",
   "metadata": {},
   "outputs": [
    {
     "name": "stdout",
     "output_type": "stream",
     "text": [
      "[8, 0, 9, 5]\n"
     ]
    }
   ],
   "source": [
    "l=[8,0,9,5]\n",
    "print(l[:4])"
   ]
  },
  {
   "cell_type": "code",
   "execution_count": 7,
   "id": "2eca8461",
   "metadata": {},
   "outputs": [
    {
     "name": "stdout",
     "output_type": "stream",
     "text": [
      "[8, 0, 9]\n"
     ]
    }
   ],
   "source": [
    "l=[8,0,9,5]\n",
    "print(l[:-1])"
   ]
  },
  {
   "cell_type": "code",
   "execution_count": 9,
   "id": "095f3785",
   "metadata": {},
   "outputs": [
    {
     "name": "stdout",
     "output_type": "stream",
     "text": [
      "[8, 0]\n"
     ]
    }
   ],
   "source": [
    "l=[8,0,9,5]\n",
    "print(l[:-2])"
   ]
  },
  {
   "cell_type": "code",
   "execution_count": 10,
   "id": "be979d62",
   "metadata": {},
   "outputs": [
    {
     "name": "stdout",
     "output_type": "stream",
     "text": [
      "[5, 0]\n"
     ]
    }
   ],
   "source": [
    "l=[8,0,9,5]\n",
    "print(l[::-2])"
   ]
  },
  {
   "cell_type": "code",
   "execution_count": 11,
   "id": "348c38ce",
   "metadata": {},
   "outputs": [
    {
     "name": "stdout",
     "output_type": "stream",
     "text": [
      "[5, 9, 3]\n"
     ]
    }
   ],
   "source": [
    "l=[1,5,7,8,9,6,4,3,14]\n",
    "print(l[1:9:3])"
   ]
  },
  {
   "cell_type": "code",
   "execution_count": 14,
   "id": "0c7391a4",
   "metadata": {},
   "outputs": [
    {
     "name": "stdout",
     "output_type": "stream",
     "text": [
      "[1, 9, 14]\n"
     ]
    }
   ],
   "source": [
    "l=[1,5,7,8,9,6,4,3,14]\n",
    "print(l[0:9:4])"
   ]
  },
  {
   "cell_type": "code",
   "execution_count": 6,
   "id": "6e7a7910",
   "metadata": {},
   "outputs": [],
   "source": [
    "# insert items"
   ]
  },
  {
   "cell_type": "code",
   "execution_count": 20,
   "id": "91283ab0",
   "metadata": {},
   "outputs": [
    {
     "name": "stdout",
     "output_type": "stream",
     "text": [
      "[1, 2, 8, 4, 5]\n"
     ]
    }
   ],
   "source": [
    "l=[1,2,3,4,5]\n",
    "l[2]=8\n",
    "print(l)\n"
   ]
  },
  {
   "cell_type": "code",
   "execution_count": 25,
   "id": "ffcec12a",
   "metadata": {},
   "outputs": [
    {
     "name": "stdout",
     "output_type": "stream",
     "text": [
      "2\n"
     ]
    }
   ],
   "source": [
    "L1=[5,6,7,8,[1,2,3],[45]]\n",
    "print(L1[4][1])"
   ]
  },
  {
   "cell_type": "code",
   "execution_count": 29,
   "id": "79c7b96e",
   "metadata": {},
   "outputs": [
    {
     "name": "stdout",
     "output_type": "stream",
     "text": [
      "['eee', 'fff']\n"
     ]
    }
   ],
   "source": [
    "l2=['a','b',['cc','dd',['eee','fff']],'g','h']\n",
    "print(l2[2][2])"
   ]
  },
  {
   "cell_type": "code",
   "execution_count": 31,
   "id": "97800561",
   "metadata": {},
   "outputs": [
    {
     "name": "stdout",
     "output_type": "stream",
     "text": [
      "eee\n"
     ]
    }
   ],
   "source": [
    "print(l2[2][2][0])"
   ]
  },
  {
   "cell_type": "code",
   "execution_count": 35,
   "id": "c2cf9bba",
   "metadata": {},
   "outputs": [
    {
     "name": "stdout",
     "output_type": "stream",
     "text": [
      "['eee', 'fff']\n"
     ]
    }
   ],
   "source": [
    "print(l2[-3][-1])"
   ]
  },
  {
   "cell_type": "code",
   "execution_count": 7,
   "id": "123c73a6",
   "metadata": {},
   "outputs": [],
   "source": [
    "# change items"
   ]
  },
  {
   "cell_type": "code",
   "execution_count": 50,
   "id": "e9a12a01",
   "metadata": {},
   "outputs": [
    {
     "name": "stdout",
     "output_type": "stream",
     "text": [
      "['a', ['bb', 'zz'], 'd']\n"
     ]
    }
   ],
   "source": [
    "L=['a',['bb','cc'],'d']\n",
    "L[1][1]='zz'\n",
    "print(L)"
   ]
  },
  {
   "cell_type": "code",
   "execution_count": 8,
   "id": "f634a378",
   "metadata": {},
   "outputs": [],
   "source": [
    "# add items"
   ]
  },
  {
   "cell_type": "code",
   "execution_count": 52,
   "id": "234d6578",
   "metadata": {},
   "outputs": [
    {
     "name": "stdout",
     "output_type": "stream",
     "text": [
      "['a', ['bb', 'zz', 'xx', 'xx'], 'd']\n"
     ]
    }
   ],
   "source": [
    "L[1].append(\"xx\")\n",
    "print(L)"
   ]
  },
  {
   "cell_type": "raw",
   "id": "6029738d",
   "metadata": {},
   "source": [
    "L[1].insert(0,'yy')\n",
    "print(L)"
   ]
  },
  {
   "cell_type": "code",
   "execution_count": 53,
   "id": "4d2bdf4d",
   "metadata": {},
   "outputs": [
    {
     "name": "stdout",
     "output_type": "stream",
     "text": [
      "['a', ['yy', 'bb', 'zz', 'xx', 'xx'], 'd']\n"
     ]
    }
   ],
   "source": [
    "L[1].insert(0,'yy')\n",
    "print(L)"
   ]
  },
  {
   "cell_type": "code",
   "execution_count": 57,
   "id": "e44c25c7",
   "metadata": {},
   "outputs": [
    {
     "name": "stdout",
     "output_type": "stream",
     "text": [
      "['a', ['yy', 'bb', 'zz', 'xx', 'xx', 'x', 'x', 1, 2, 3, 1, 2, 3], 'd']\n"
     ]
    }
   ],
   "source": [
    "L[1].extend([1,2,3])\n",
    "print(L)"
   ]
  },
  {
   "cell_type": "code",
   "execution_count": 9,
   "id": "6b87b4b7",
   "metadata": {},
   "outputs": [],
   "source": [
    "# remove tems"
   ]
  },
  {
   "cell_type": "code",
   "execution_count": 66,
   "id": "5bf7cdd4",
   "metadata": {},
   "outputs": [
    {
     "name": "stdout",
     "output_type": "stream",
     "text": [
      "['a', ['bb', 'dd'], 'e']\n"
     ]
    }
   ],
   "source": [
    "L1=['a',['bb','cc','dd'],'e']\n",
    "L1[1].pop(1)\n",
    "print(L1)"
   ]
  },
  {
   "cell_type": "code",
   "execution_count": 71,
   "id": "28cec99a",
   "metadata": {},
   "outputs": [
    {
     "name": "stdout",
     "output_type": "stream",
     "text": [
      "[2, 5, 7, 3, 6]\n"
     ]
    }
   ],
   "source": [
    "l=[3,2,5,7,3,6]\n",
    "l.pop(0)\n",
    "print(l)"
   ]
  },
  {
   "cell_type": "code",
   "execution_count": 10,
   "id": "54ede989",
   "metadata": {},
   "outputs": [],
   "source": [
    "# for loop"
   ]
  },
  {
   "cell_type": "code",
   "execution_count": 103,
   "id": "5c53c4e8",
   "metadata": {},
   "outputs": [
    {
     "name": "stdout",
     "output_type": "stream",
     "text": [
      "apple\n",
      "mango\n",
      "banana\n",
      "cherry\n"
     ]
    }
   ],
   "source": [
    "l=['apple','mango','banana','cherry']\n",
    "for i in l:\n",
    "    print(i)"
   ]
  },
  {
   "cell_type": "code",
   "execution_count": 107,
   "id": "7d41339a",
   "metadata": {},
   "outputs": [
    {
     "name": "stdout",
     "output_type": "stream",
     "text": [
      "apple\n",
      "mango\n",
      "banana\n",
      "cherry\n"
     ]
    }
   ],
   "source": [
    "for i in range(len(l)):\n",
    "    print(l[i])"
   ]
  },
  {
   "cell_type": "code",
   "execution_count": 113,
   "id": "6643668c",
   "metadata": {},
   "outputs": [
    {
     "name": "stdout",
     "output_type": "stream",
     "text": [
      "mango\n",
      "banana\n"
     ]
    }
   ],
   "source": [
    "for i in range(1,3):\n",
    "    print(l[i])\n",
    "    "
   ]
  },
  {
   "cell_type": "code",
   "execution_count": 124,
   "id": "fc204b41",
   "metadata": {},
   "outputs": [],
   "source": [
    "# list comprehnsion"
   ]
  },
  {
   "cell_type": "code",
   "execution_count": 120,
   "id": "bccea4e5",
   "metadata": {},
   "outputs": [
    {
     "name": "stdout",
     "output_type": "stream",
     "text": [
      "[0, 2, 4, 6, 8, 10, 12, 14, 16, 18]\n"
     ]
    }
   ],
   "source": [
    "l=[1,2,3,4,5,6,7,8,9,10,11,12,13,14,15,16,17,18,19,20]\n",
    "new_list=[l for l in range(20) if l%2==0]\n",
    "print(new_list)"
   ]
  },
  {
   "cell_type": "code",
   "execution_count": 2,
   "id": "457cdeb3",
   "metadata": {},
   "outputs": [
    {
     "name": "stdout",
     "output_type": "stream",
     "text": [
      "['even', 'odd', 'even', 'odd', 'even', 'odd', 'even', 'odd', 'even', 'odd']\n"
     ]
    }
   ],
   "source": [
    "l=[1,2,3,4,5,6,7,8,9,10,11,12,13,14,15,16,17,18,19,20]\n",
    "new_list=['even'if x%2==0 else 'odd' for x in range(10)]\n",
    "print(new_list)"
   ]
  },
  {
   "cell_type": "code",
   "execution_count": 1,
   "id": "48f3836f",
   "metadata": {},
   "outputs": [],
   "source": [
    "#string"
   ]
  },
  {
   "cell_type": "code",
   "execution_count": 3,
   "id": "6ba313d0",
   "metadata": {},
   "outputs": [
    {
     "name": "stdout",
     "output_type": "stream",
     "text": [
      "a\n"
     ]
    }
   ],
   "source": [
    "a=\"blog\"\n",
    "a=\"a\"\n",
    "print(a)"
   ]
  },
  {
   "cell_type": "code",
   "execution_count": 7,
   "id": "c07a5a5d",
   "metadata": {},
   "outputs": [],
   "source": [
    "# replace"
   ]
  },
  {
   "cell_type": "code",
   "execution_count": 6,
   "id": "a41657b6",
   "metadata": {},
   "outputs": [
    {
     "name": "stdout",
     "output_type": "stream",
     "text": [
      "weacome\n"
     ]
    }
   ],
   "source": [
    "str=\"welcome\"\n",
    "print(str.replace(\"l\",\"a\"))"
   ]
  },
  {
   "cell_type": "code",
   "execution_count": 13,
   "id": "d40f2d76",
   "metadata": {},
   "outputs": [
    {
     "name": "stdout",
     "output_type": "stream",
     "text": [
      "b\n",
      "a\n",
      "n\n",
      "a\n",
      "n\n",
      "a\n"
     ]
    }
   ],
   "source": [
    "# multiline\n",
    "x=(\"banana\")\n",
    "for x in \"banana\":\n",
    "    print(x)"
   ]
  },
  {
   "cell_type": "code",
   "execution_count": 14,
   "id": "8034ff3b",
   "metadata": {},
   "outputs": [],
   "source": [
    "#length"
   ]
  },
  {
   "cell_type": "code",
   "execution_count": 15,
   "id": "a163e3b5",
   "metadata": {},
   "outputs": [
    {
     "name": "stdout",
     "output_type": "stream",
     "text": [
      "7\n"
     ]
    }
   ],
   "source": [
    "str=\"welcome\"\n",
    "print(len(str))"
   ]
  },
  {
   "cell_type": "code",
   "execution_count": 16,
   "id": "5d2086d6",
   "metadata": {},
   "outputs": [],
   "source": [
    "#check"
   ]
  },
  {
   "cell_type": "code",
   "execution_count": 17,
   "id": "31bf5bf3",
   "metadata": {},
   "outputs": [
    {
     "name": "stdout",
     "output_type": "stream",
     "text": [
      "True\n"
     ]
    }
   ],
   "source": [
    "str=\"welcome your guys\"\n",
    "print(\"your\" in str)"
   ]
  },
  {
   "cell_type": "code",
   "execution_count": 19,
   "id": "243d39e0",
   "metadata": {},
   "outputs": [
    {
     "name": "stdout",
     "output_type": "stream",
     "text": [
      "False\n"
     ]
    }
   ],
   "source": [
    "str=\"welcome your guys\"\n",
    "print(\"your\"  not in str)"
   ]
  },
  {
   "cell_type": "code",
   "execution_count": 20,
   "id": "3244077f",
   "metadata": {},
   "outputs": [
    {
     "name": "stdout",
     "output_type": "stream",
     "text": [
      "anant\n"
     ]
    }
   ],
   "source": [
    "str=\"welcome your guys\"\n",
    "if \"your\" in str:\n",
    "    print(\"anant\")"
   ]
  },
  {
   "cell_type": "code",
   "execution_count": 21,
   "id": "afd204c7",
   "metadata": {},
   "outputs": [],
   "source": [
    "# access"
   ]
  },
  {
   "cell_type": "code",
   "execution_count": 22,
   "id": "4ad4f4b7",
   "metadata": {},
   "outputs": [
    {
     "name": "stdout",
     "output_type": "stream",
     "text": [
      "hello\n"
     ]
    }
   ],
   "source": [
    "a=(\"hello,world\")\n",
    "print(a[:5])"
   ]
  },
  {
   "cell_type": "code",
   "execution_count": 23,
   "id": "683707e4",
   "metadata": {},
   "outputs": [
    {
     "name": "stdout",
     "output_type": "stream",
     "text": [
      ",world\n"
     ]
    }
   ],
   "source": [
    "a=(\"hello,world\")\n",
    "print(a[5:])"
   ]
  },
  {
   "cell_type": "code",
   "execution_count": 4,
   "id": "e848e15d",
   "metadata": {},
   "outputs": [
    {
     "name": "stdout",
     "output_type": "stream",
     "text": [
      "llo,w\n"
     ]
    }
   ],
   "source": [
    "a=(\"hello,world\")\n",
    "print(a[2:7])"
   ]
  },
  {
   "cell_type": "code",
   "execution_count": 5,
   "id": "6d7e413d",
   "metadata": {},
   "outputs": [],
   "source": [
    "#modify"
   ]
  },
  {
   "cell_type": "code",
   "execution_count": 6,
   "id": "58b4ab4a",
   "metadata": {},
   "outputs": [
    {
     "name": "stdout",
     "output_type": "stream",
     "text": [
      "HELLO,WORLD\n"
     ]
    }
   ],
   "source": [
    "a=(\"hello,world\")\n",
    "print(a.upper())"
   ]
  },
  {
   "cell_type": "code",
   "execution_count": 7,
   "id": "3c759b3e",
   "metadata": {},
   "outputs": [
    {
     "name": "stdout",
     "output_type": "stream",
     "text": [
      "hello,world\n"
     ]
    }
   ],
   "source": [
    "a=(\"hello,world\")\n",
    "print(a.strip())"
   ]
  },
  {
   "cell_type": "code",
   "execution_count": 8,
   "id": "f2b067bb",
   "metadata": {},
   "outputs": [],
   "source": [
    "#concatenate"
   ]
  },
  {
   "cell_type": "code",
   "execution_count": 9,
   "id": "19ba736a",
   "metadata": {},
   "outputs": [
    {
     "name": "stdout",
     "output_type": "stream",
     "text": [
      "helloworld\n"
     ]
    }
   ],
   "source": [
    "a=\"hello\"\n",
    "b=\"world\"\n",
    "c=a+b\n",
    "print(c)"
   ]
  },
  {
   "cell_type": "code",
   "execution_count": 10,
   "id": "1db69dbc",
   "metadata": {},
   "outputs": [
    {
     "name": "stdout",
     "output_type": "stream",
     "text": [
      "hello world\n"
     ]
    }
   ],
   "source": [
    "a=\"hello\"\n",
    "b=\"world\"\n",
    "c=a+ \" \" +b\n",
    "print(c)"
   ]
  },
  {
   "cell_type": "code",
   "execution_count": 11,
   "id": "154a2092",
   "metadata": {},
   "outputs": [],
   "source": [
    "# format"
   ]
  },
  {
   "cell_type": "code",
   "execution_count": 3,
   "id": "dfc31249",
   "metadata": {},
   "outputs": [
    {
     "name": "stdout",
     "output_type": "stream",
     "text": [
      "My name is John, I am 20\n"
     ]
    }
   ],
   "source": [
    "age=20\n",
    "txt=\"My name is John, I am {}\"\n",
    "print(txt.format(age))"
   ]
  },
  {
   "cell_type": "code",
   "execution_count": 4,
   "id": "ce2a63d5",
   "metadata": {},
   "outputs": [],
   "source": [
    "# split"
   ]
  },
  {
   "cell_type": "code",
   "execution_count": 7,
   "id": "39ecdaaf",
   "metadata": {},
   "outputs": [
    {
     "name": "stdout",
     "output_type": "stream",
     "text": [
      "['hello', 'my', 'world']\n"
     ]
    }
   ],
   "source": [
    "a=\"hello my world\"\n",
    "print(a.split())"
   ]
  },
  {
   "cell_type": "code",
   "execution_count": 10,
   "id": "0f9731a3",
   "metadata": {},
   "outputs": [
    {
     "name": "stdout",
     "output_type": "stream",
     "text": [
      "hello world welcome to mathura\n"
     ]
    }
   ],
   "source": [
    "a=\"  world  \"\n",
    "x=a.strip()\n",
    "print(\"hello\", x , \"welcome to mathura\")"
   ]
  },
  {
   "cell_type": "code",
   "execution_count": 11,
   "id": "48b6221b",
   "metadata": {},
   "outputs": [],
   "source": [
    "# tuple"
   ]
  },
  {
   "cell_type": "code",
   "execution_count": 11,
   "id": "4bd945d0",
   "metadata": {},
   "outputs": [],
   "source": [
    "# access items"
   ]
  },
  {
   "cell_type": "code",
   "execution_count": 12,
   "id": "b4515375",
   "metadata": {},
   "outputs": [
    {
     "name": "stdout",
     "output_type": "stream",
     "text": [
      "(3, 4, 5)\n"
     ]
    }
   ],
   "source": [
    "t=(1,2,3,4,5,6)\n",
    "print(t[2:-1])"
   ]
  },
  {
   "cell_type": "code",
   "execution_count": 12,
   "id": "4ca97f6e",
   "metadata": {},
   "outputs": [],
   "source": [
    "# insert items"
   ]
  },
  {
   "cell_type": "code",
   "execution_count": 13,
   "id": "d5508ba7",
   "metadata": {},
   "outputs": [
    {
     "name": "stdout",
     "output_type": "stream",
     "text": [
      "[1, 9, 2, 4, 5]\n"
     ]
    }
   ],
   "source": [
    "t=(1,2,4,5)\n",
    "x=list(t)\n",
    "x.insert(1,9)\n",
    "print(x)"
   ]
  },
  {
   "cell_type": "code",
   "execution_count": 14,
   "id": "d9b6cdb4",
   "metadata": {},
   "outputs": [
    {
     "name": "stdout",
     "output_type": "stream",
     "text": [
      "(1, 9, 2, 4, 5)\n"
     ]
    }
   ],
   "source": [
    "t=tuple(x)\n",
    "print(t)"
   ]
  },
  {
   "cell_type": "code",
   "execution_count": 13,
   "id": "7d465c2e",
   "metadata": {},
   "outputs": [],
   "source": [
    "# add items"
   ]
  },
  {
   "cell_type": "code",
   "execution_count": 15,
   "id": "cc82c181",
   "metadata": {},
   "outputs": [
    {
     "name": "stdout",
     "output_type": "stream",
     "text": [
      "(1, 2, 4, 5, 9)\n"
     ]
    }
   ],
   "source": [
    "t=(1,2,4,5)\n",
    "x=list(t)\n",
    "x.append(9)\n",
    "t=tuple(x)\n",
    "print(t)"
   ]
  },
  {
   "cell_type": "code",
   "execution_count": 19,
   "id": "2a69bcbb",
   "metadata": {},
   "outputs": [
    {
     "name": "stdout",
     "output_type": "stream",
     "text": [
      "[1, 9, 4, 5]\n"
     ]
    }
   ],
   "source": [
    "t=(1,2,4,5)\n",
    "x=list(t)\n",
    "x[1]=9\n",
    "print(x)"
   ]
  },
  {
   "cell_type": "code",
   "execution_count": 20,
   "id": "4273eeb2",
   "metadata": {},
   "outputs": [
    {
     "name": "stdout",
     "output_type": "stream",
     "text": [
      "(1, 9, 4, 5)\n"
     ]
    }
   ],
   "source": [
    "t=tuple(x)\n",
    "print(t)"
   ]
  },
  {
   "cell_type": "code",
   "execution_count": 1,
   "id": "23ee8655",
   "metadata": {},
   "outputs": [],
   "source": [
    "# dictionary"
   ]
  },
  {
   "cell_type": "code",
   "execution_count": 2,
   "id": "a7014ece",
   "metadata": {},
   "outputs": [
    {
     "name": "stdout",
     "output_type": "stream",
     "text": [
      "{'brand': 'ford', 'model': 'mustang', 'year': '2000'}\n"
     ]
    }
   ],
   "source": [
    "car_dict={'brand':'ford','model':'mustang','year':'2000'}\n",
    "print(car_dict)"
   ]
  },
  {
   "cell_type": "code",
   "execution_count": 3,
   "id": "fd08e2a6",
   "metadata": {},
   "outputs": [
    {
     "name": "stdout",
     "output_type": "stream",
     "text": [
      "mustang\n"
     ]
    }
   ],
   "source": [
    "print(car_dict['model'])"
   ]
  },
  {
   "cell_type": "code",
   "execution_count": 4,
   "id": "b18975a7",
   "metadata": {},
   "outputs": [
    {
     "name": "stdout",
     "output_type": "stream",
     "text": [
      "ford\n"
     ]
    }
   ],
   "source": [
    "print(car_dict['brand'])"
   ]
  },
  {
   "cell_type": "code",
   "execution_count": 14,
   "id": "2963abc8",
   "metadata": {},
   "outputs": [],
   "source": [
    "# length"
   ]
  },
  {
   "cell_type": "code",
   "execution_count": 5,
   "id": "16ce69e8",
   "metadata": {},
   "outputs": [
    {
     "name": "stdout",
     "output_type": "stream",
     "text": [
      "3\n"
     ]
    }
   ],
   "source": [
    "print(len(car_dict))"
   ]
  },
  {
   "cell_type": "code",
   "execution_count": 15,
   "id": "bc51c503",
   "metadata": {},
   "outputs": [],
   "source": [
    "# type"
   ]
  },
  {
   "cell_type": "code",
   "execution_count": 6,
   "id": "3013288e",
   "metadata": {},
   "outputs": [
    {
     "name": "stdout",
     "output_type": "stream",
     "text": [
      "<class 'dict'>\n"
     ]
    }
   ],
   "source": [
    "print(type(car_dict))"
   ]
  },
  {
   "cell_type": "code",
   "execution_count": 10,
   "id": "5c586e60",
   "metadata": {},
   "outputs": [
    {
     "name": "stdout",
     "output_type": "stream",
     "text": [
      "{'brand': 'ford', 'year': '2000', 'color': 'white'}\n"
     ]
    }
   ],
   "source": [
    "car_dict[\"color\"]=\"white\"\n",
    "print(car_dict)"
   ]
  },
  {
   "cell_type": "code",
   "execution_count": 16,
   "id": "718f0f26",
   "metadata": {},
   "outputs": [],
   "source": [
    "# copy"
   ]
  },
  {
   "cell_type": "code",
   "execution_count": 6,
   "id": "eb6ffb12",
   "metadata": {},
   "outputs": [
    {
     "name": "stdout",
     "output_type": "stream",
     "text": [
      "{'brand': 'ford', 'model': 'mustang', 'year': '2000'}\n"
     ]
    }
   ],
   "source": [
    "dict2=car_dict.copy()\n",
    "print(dict2)"
   ]
  },
  {
   "cell_type": "code",
   "execution_count": 17,
   "id": "9828b161",
   "metadata": {},
   "outputs": [],
   "source": [
    "# remove"
   ]
  },
  {
   "cell_type": "code",
   "execution_count": 7,
   "id": "39db2a39",
   "metadata": {},
   "outputs": [
    {
     "name": "stdout",
     "output_type": "stream",
     "text": [
      "mustang\n"
     ]
    }
   ],
   "source": [
    "print(car_dict.pop('model'))"
   ]
  },
  {
   "cell_type": "code",
   "execution_count": 8,
   "id": "7a8ee71f",
   "metadata": {},
   "outputs": [
    {
     "name": "stdout",
     "output_type": "stream",
     "text": [
      "{'brand': 'ford', 'year': '2000'}\n"
     ]
    }
   ],
   "source": [
    "print(car_dict)"
   ]
  },
  {
   "cell_type": "code",
   "execution_count": 11,
   "id": "0cb1273a",
   "metadata": {},
   "outputs": [
    {
     "name": "stdout",
     "output_type": "stream",
     "text": [
      "{'brand': 'ford', 'year': '1990', 'color': 'white'}\n"
     ]
    }
   ],
   "source": [
    "car_dict['year']='1990'\n",
    "print(car_dict)"
   ]
  },
  {
   "cell_type": "code",
   "execution_count": 12,
   "id": "63c5b2f7",
   "metadata": {},
   "outputs": [
    {
     "name": "stdout",
     "output_type": "stream",
     "text": [
      "('color', 'white')\n"
     ]
    }
   ],
   "source": [
    "print(car_dict.popitem())"
   ]
  },
  {
   "cell_type": "code",
   "execution_count": 20,
   "id": "5c4d1b5d",
   "metadata": {},
   "outputs": [
    {
     "name": "stdout",
     "output_type": "stream",
     "text": [
      "{'brand': 'ford', 'model': 'mustang', 'year': '2000'}\n"
     ]
    }
   ],
   "source": [
    "car_dict.items()\n",
    "print(car_dict)"
   ]
  },
  {
   "cell_type": "code",
   "execution_count": 23,
   "id": "6f61ef40",
   "metadata": {},
   "outputs": [
    {
     "name": "stdout",
     "output_type": "stream",
     "text": [
      "{'brand': 'ford', 'model': 'mustang', 'year': '2000'}\n"
     ]
    }
   ],
   "source": [
    "car_dict={'brand':'ford','model':'mustang','year':'2000'}\n",
    "print(car_dict)"
   ]
  },
  {
   "cell_type": "code",
   "execution_count": 18,
   "id": "63e9437b",
   "metadata": {},
   "outputs": [],
   "source": [
    "# for loop"
   ]
  },
  {
   "cell_type": "code",
   "execution_count": 25,
   "id": "2fc9e58a",
   "metadata": {},
   "outputs": [
    {
     "name": "stdout",
     "output_type": "stream",
     "text": [
      "brand\n",
      "model\n",
      "year\n"
     ]
    }
   ],
   "source": [
    "for keys in car_dict:\n",
    "    print(keys)"
   ]
  },
  {
   "cell_type": "code",
   "execution_count": 26,
   "id": "9bcff152",
   "metadata": {},
   "outputs": [
    {
     "name": "stdout",
     "output_type": "stream",
     "text": [
      "ford\n",
      "mustang\n",
      "2000\n"
     ]
    }
   ],
   "source": [
    "for keys in car_dict:\n",
    "    print(car_dict[keys])"
   ]
  },
  {
   "cell_type": "code",
   "execution_count": 28,
   "id": "c1ea7e6b",
   "metadata": {},
   "outputs": [
    {
     "name": "stdout",
     "output_type": "stream",
     "text": [
      "brand\n",
      "model\n",
      "year\n"
     ]
    }
   ],
   "source": [
    "for keys in car_dict.keys():\n",
    "    print(keys)"
   ]
  },
  {
   "cell_type": "code",
   "execution_count": 29,
   "id": "2f13d070",
   "metadata": {},
   "outputs": [
    {
     "name": "stdout",
     "output_type": "stream",
     "text": [
      "ford\n",
      "mustang\n",
      "2000\n"
     ]
    }
   ],
   "source": [
    "for i in car_dict.values():\n",
    "    print(i)"
   ]
  },
  {
   "cell_type": "code",
   "execution_count": 30,
   "id": "1212684b",
   "metadata": {},
   "outputs": [
    {
     "name": "stdout",
     "output_type": "stream",
     "text": [
      "('brand', 'ford')\n",
      "('model', 'mustang')\n",
      "('year', '2000')\n"
     ]
    }
   ],
   "source": [
    "for i in car_dict.items():\n",
    "    print(i)"
   ]
  },
  {
   "cell_type": "code",
   "execution_count": 31,
   "id": "eef3494c",
   "metadata": {},
   "outputs": [],
   "source": [
    "#write a program to check whether given key already exist in dictionary or not"
   ]
  },
  {
   "cell_type": "code",
   "execution_count": 3,
   "id": "467e9174",
   "metadata": {},
   "outputs": [
    {
     "name": "stdout",
     "output_type": "stream",
     "text": [
      "yes\n"
     ]
    }
   ],
   "source": [
    "car_dict={'brand':'ford','model':'mustang','year':'2000'}\n",
    "def check(x):\n",
    "    if x in car_dict:\n",
    "        return 'yes'\n",
    "    else:\n",
    "        return 'no'\n",
    "print(check('brand'))    "
   ]
  },
  {
   "cell_type": "code",
   "execution_count": 4,
   "id": "d644977a",
   "metadata": {},
   "outputs": [
    {
     "name": "stdout",
     "output_type": "stream",
     "text": [
      "key is present or not yes\n"
     ]
    }
   ],
   "source": [
    "car_dict={'brand':'ford','model':'mustang','year':'2000'}\n",
    "def check(x):\n",
    "    if x in car_dict:\n",
    "        return 'yes'\n",
    "    else:\n",
    "        return 'no'\n",
    "print(\"key is present or not\",check('brand')) "
   ]
  },
  {
   "cell_type": "code",
   "execution_count": 1,
   "id": "8e2c881b",
   "metadata": {},
   "outputs": [],
   "source": [
    "# if else condition"
   ]
  },
  {
   "cell_type": "code",
   "execution_count": 2,
   "id": "6b81238c",
   "metadata": {},
   "outputs": [
    {
     "name": "stdout",
     "output_type": "stream",
     "text": [
      "i is 20\n"
     ]
    }
   ],
   "source": [
    "i=20\n",
    "if(i==10):\n",
    "    print(\"i is 10\")\n",
    "elif(i==15):\n",
    "    print(\"i is 15\")\n",
    "elif(i==20):\n",
    "    print(\"i is 20\")\n",
    "else:\n",
    "    print(\"20 is not present\")\n",
    "        "
   ]
  },
  {
   "cell_type": "code",
   "execution_count": 2,
   "id": "acea8c5b",
   "metadata": {},
   "outputs": [],
   "source": [
    "# write a program to check whether a number is divisible by 7 or not"
   ]
  },
  {
   "cell_type": "code",
   "execution_count": 12,
   "id": "62727066",
   "metadata": {},
   "outputs": [
    {
     "name": "stdout",
     "output_type": "stream",
     "text": [
      "entr a number34\n",
      "not divisible\n"
     ]
    }
   ],
   "source": [
    "a=int(input(\"entr a number\"))\n",
    "def check (a):\n",
    "    if a%7==0:\n",
    "        return \"yes divisiable\"\n",
    "    else:\n",
    "        return \"not divisible\"\n",
    "print(check(a))    "
   ]
  },
  {
   "cell_type": "code",
   "execution_count": 19,
   "id": "27211c41",
   "metadata": {},
   "outputs": [],
   "source": [
    "# write a prgram to check whether a person is senior citizen or not"
   ]
  },
  {
   "cell_type": "code",
   "execution_count": 2,
   "id": "4ffc193c",
   "metadata": {},
   "outputs": [
    {
     "name": "stdout",
     "output_type": "stream",
     "text": [
      "entr a number63\n",
      "senior citizen \n"
     ]
    }
   ],
   "source": [
    "a=int(input(\"entr a number\"))\n",
    "def check (a):\n",
    "    if a>60:\n",
    "        return \"senior citizen \"\n",
    "    else:\n",
    "        return \"not senior citizen\"\n",
    "print(check(a))    "
   ]
  },
  {
   "cell_type": "code",
   "execution_count": 20,
   "id": "f36afc63",
   "metadata": {},
   "outputs": [],
   "source": [
    "# write a program to check whethr a number is divisible by 2 and 3 both"
   ]
  },
  {
   "cell_type": "code",
   "execution_count": 15,
   "id": "0331bda4",
   "metadata": {},
   "outputs": [
    {
     "name": "stdout",
     "output_type": "stream",
     "text": [
      "entr a number12\n",
      "yes divisiable\n"
     ]
    }
   ],
   "source": [
    "a=int(input(\"entr a number\"))\n",
    "def check (a):\n",
    "    if (a%2==0) and (a%3==0):\n",
    "        return \"yes divisiable\"\n",
    "    else:\n",
    "        return \"not divisible\"\n",
    "print(check(a))    "
   ]
  },
  {
   "cell_type": "code",
   "execution_count": null,
   "id": "8f73ecb9",
   "metadata": {},
   "outputs": [],
   "source": [
    "# writa a program to check the largest number out of 3 numbers"
   ]
  },
  {
   "cell_type": "code",
   "execution_count": 9,
   "id": "3e9f4636",
   "metadata": {},
   "outputs": [
    {
     "name": "stdout",
     "output_type": "stream",
     "text": [
      "entr a first number24\n",
      "entr a second number12\n",
      "entr a third number67\n",
      "67\n"
     ]
    }
   ],
   "source": [
    "a=int(input(\"entr a first number\"))\n",
    "b=int(input(\"entr a second number\"))\n",
    "c=int(input(\"entr a third number\"))\n",
    "def check (a,b,c):\n",
    "        return max (a,b,c)\n",
    "print(check(a,b,c))    "
   ]
  },
  {
   "cell_type": "code",
   "execution_count": 16,
   "id": "c5003ddc",
   "metadata": {},
   "outputs": [],
   "source": [
    "# matrix"
   ]
  },
  {
   "cell_type": "code",
   "execution_count": 27,
   "id": "f9224d3c",
   "metadata": {},
   "outputs": [
    {
     "name": "stdout",
     "output_type": "stream",
     "text": [
      "[17, 15, 4]\n",
      "[10, 12, 9]\n",
      "[11, 13, 18]\n"
     ]
    }
   ],
   "source": [
    "x=[[12,7,3,],[4,5,6],[7,8,9]]\n",
    "y=[[5,8,1],[6,7,3],[4,5,9]]\n",
    "result=[[0,0,0],[0,0,0],[0,0,0]]\n",
    "# itrate through rows\n",
    "for i in range(len(x)):\n",
    " # itrate through column   \n",
    "    for j in range(len(x[0])):\n",
    "        result[i][j]=x[i][j]+y[i][j]\n",
    "        \n",
    "for r in result:\n",
    "    print(r)"
   ]
  }
 ],
 "metadata": {
  "kernelspec": {
   "display_name": "Python 3 (ipykernel)",
   "language": "python",
   "name": "python3"
  },
  "language_info": {
   "codemirror_mode": {
    "name": "ipython",
    "version": 3
   },
   "file_extension": ".py",
   "mimetype": "text/x-python",
   "name": "python",
   "nbconvert_exporter": "python",
   "pygments_lexer": "ipython3",
   "version": "3.11.5"
  }
 },
 "nbformat": 4,
 "nbformat_minor": 5
}
